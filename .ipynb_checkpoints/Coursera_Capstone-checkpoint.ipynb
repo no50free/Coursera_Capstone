{
 "cells": [
  {
   "cell_type": "markdown",
   "metadata": {},
   "source": [
    "# Coursera Capstone\n",
    "## The Battle of the Neighborhoods\n",
    "This document will be used for the Coursera Capstone project, part of the IBM Data Science Professional Certificate."
   ]
  },
  {
   "cell_type": "code",
   "execution_count": 55,
   "metadata": {},
   "outputs": [
    {
     "name": "stdout",
     "output_type": "stream",
     "text": [
      "Collecting package metadata (current_repodata.json): done\n",
      "Solving environment: done\n",
      "\n",
      "# All requested packages already installed.\n",
      "\n"
     ]
    }
   ],
   "source": [
    "import pandas as pd\n",
    "import numpy as np\n",
    "\n",
    "import json # library to handle JSON files\n",
    "\n",
    "# Matplotlib and associated plotting modules\n",
    "import matplotlib.cm as cm\n",
    "import matplotlib.colors as colors\n",
    "\n",
    "#!conda install -c conda-forge geopy --yes # uncomment this line if you haven't completed the Foursquare API lab\n",
    "from geopy.geocoders import Nominatim # convert an address into latitude and longitude values\n",
    "\n",
    "# import k-means from clustering stage\n",
    "from sklearn.cluster import KMeans\n",
    "\n",
    "#!conda install -c conda-forge folium=0.5.0 --yes # uncomment this line if you haven't completed the Foursquare API lab\n",
    "import folium # map rendering library\n",
    "\n",
    "import requests # library to handle requests\n",
    "from pandas.io.json import json_normalize # tranform JSON file into a pandas dataframe"
   ]
  },
  {
   "cell_type": "markdown",
   "metadata": {},
   "source": [
    "### Create a dataframe of neighborhoods in Minneapolis\n",
    "As far as I could tell, the data for Minneapolis neighborhoods did not come attached with latitude and longitude values. The following section creates a dataframe with neighborhood names and attached lat/long values."
   ]
  },
  {
   "cell_type": "code",
   "execution_count": 4,
   "metadata": {},
   "outputs": [],
   "source": [
    "# Data retrieved from\n",
    "# https://opendata.minneapolismn.gov/datasets/minneapolis-neighborhoods\n",
    "# Data downloaded and placed in local directory\n",
    "\n",
    "with open('Minneapolis_Neighborhoods.geojson.json') as jsondata:\n",
    "    mpls_data = json.load(jsondata)"
   ]
  },
  {
   "cell_type": "markdown",
   "metadata": {},
   "source": [
    "Define `mpls_nbhds` to be the features of the geojson file imported above."
   ]
  },
  {
   "cell_type": "code",
   "execution_count": 6,
   "metadata": {},
   "outputs": [],
   "source": [
    "mpls_nbhds = mpls_data['features']"
   ]
  },
  {
   "cell_type": "code",
   "execution_count": 7,
   "metadata": {},
   "outputs": [
    {
     "data": {
      "text/plain": [
       "{'type': 'Feature',\n",
       " 'properties': {'FID': 1,\n",
       "  'BDNAME': 'Phillips West',\n",
       "  'BDNUM': '90',\n",
       "  'TEXT_NBR': '90',\n",
       "  'Shape_STAr': 10669249.7418,\n",
       "  'Shape_STLe': 14403.8859339,\n",
       "  'NCR_LINK': 'http://www.nrp.org/r2/Neighborhoods/Orgs/PHW.html',\n",
       "  'IMAGE': 'PHW',\n",
       "  'SHAPE_Length': 0.04580106358679052,\n",
       "  'SHAPE_Area': 0.00011302161937450821},\n",
       " 'geometry': {'type': 'MultiPolygon',\n",
       "  'coordinates': [[[[-93.26258075899995, 44.96090821400003],\n",
       "     [-93.26258068799996, 44.960896674000026],\n",
       "     [-93.26257007799995, 44.95912773800006],\n",
       "     [-93.26257006199995, 44.959125131000064],\n",
       "     [-93.26257002699998, 44.95911920300006],\n",
       "     [-93.26257002299997, 44.95911835000004],\n",
       "     [-93.26257002199998, 44.95911830400007],\n",
       "     [-93.26257006099996, 44.95909969500008],\n",
       "     [-93.26257174699998, 44.95830091700003],\n",
       "     [-93.26257379799995, 44.95732838600003],\n",
       "     [-93.26257385099996, 44.95732643300005],\n",
       "     [-93.26257396599999, 44.957322271000066],\n",
       "     [-93.26257794099996, 44.95717704200007],\n",
       "     [-93.26259322499999, 44.956618751000065],\n",
       "     [-93.26262280499998, 44.95553821500005],\n",
       "     [-93.26262293199994, 44.95553358300003],\n",
       "     [-93.26262293099995, 44.95553345600007],\n",
       "     [-93.26262292599995, 44.95552397200004],\n",
       "     [-93.26262227099994, 44.954453313000045],\n",
       "     [-93.26262184099994, 44.95375352900004],\n",
       "     [-93.26262184099994, 44.95375346900005],\n",
       "     [-93.26262183299997, 44.95374139900008],\n",
       "     [-93.26262186599996, 44.95373722700003],\n",
       "     [-93.26263352099994, 44.95225792000008],\n",
       "     [-93.26263371599998, 44.95223306200006],\n",
       "     [-93.26263594699998, 44.95195005200003],\n",
       "     [-93.26263594699998, 44.95194998900007],\n",
       "     [-93.26263597699995, 44.95194633300008],\n",
       "     [-93.26263597799999, 44.95194614300004],\n",
       "     [-93.26263810799998, 44.951761532000035],\n",
       "     [-93.26265449699997, 44.95034078500004],\n",
       "     [-93.26265764499999, 44.95006788200004],\n",
       "     [-93.26265947, 44.949910454000076],\n",
       "     [-93.26267731399997, 44.94837099800003],\n",
       "     [-93.26267731399997, 44.948370913000076],\n",
       "     [-93.26267737899997, 44.948365366000075],\n",
       "     [-93.26267738799999, 44.94836451600003],\n",
       "     [-93.26267747599996, 44.948357],\n",
       "     [-93.26268119899999, 44.94835698800006],\n",
       "     [-93.26272154499998, 44.94835686700003],\n",
       "     [-93.26272779799996, 44.94835684800006],\n",
       "     [-93.26392635699995, 44.948353231000056],\n",
       "     [-93.26395226099999, 44.94835315300003],\n",
       "     [-93.26437808199995, 44.94835521600004],\n",
       "     [-93.26521003, 44.94835924100005],\n",
       "     [-93.26521009899994, 44.94835924000006],\n",
       "     [-93.26622271699995, 44.948353362000034],\n",
       "     [-93.26650418699995, 44.948351727000045],\n",
       "     [-93.26650429599994, 44.948351727000045],\n",
       "     [-93.26685150199995, 44.94835238400003],\n",
       "     [-93.26726110699997, 44.94835315700004],\n",
       "     [-93.26776079499996, 44.94835409700005],\n",
       "     [-93.26776113799997, 44.94835409800004],\n",
       "     [-93.26801190099997, 44.94835335000005],\n",
       "     [-93.26805069599999, 44.94835323400008],\n",
       "     [-93.26890086499998, 44.948350693000066],\n",
       "     [-93.26902828399994, 44.94835031000008],\n",
       "     [-93.26902839199994, 44.94835031000008],\n",
       "     [-93.27030249399996, 44.94835180200005],\n",
       "     [-93.27030278299998, 44.94835180200005],\n",
       "     [-93.27159584799995, 44.94835323500007],\n",
       "     [-93.27159618899998, 44.94835323500007],\n",
       "     [-93.27184137499995, 44.94835352900003],\n",
       "     [-93.27285428, 44.948354737000045],\n",
       "     [-93.27285433999998, 44.948354737000045],\n",
       "     [-93.27409466399996, 44.948356266000076],\n",
       "     [-93.27411962199994, 44.948356208000064],\n",
       "     [-93.27414039999996, 44.94835615800008],\n",
       "     [-93.27454145099995, 44.948355194000044],\n",
       "     [-93.27460334799997, 44.94835504500003],\n",
       "     [-93.27472094499996, 44.948354762000065],\n",
       "     [-93.27472315799997, 44.94835475700006],\n",
       "     [-93.27475575199998, 44.94835467900003],\n",
       "     [-93.27475575299997, 44.94835481700005],\n",
       "     [-93.27475581999994, 44.948362702000054],\n",
       "     [-93.27475854499994, 44.94867595300008],\n",
       "     [-93.27476241099998, 44.94894297400003],\n",
       "     [-93.27473919, 44.94923804800004],\n",
       "     [-93.27473553399994, 44.94928448300004],\n",
       "     [-93.27472230299998, 44.94934795000006],\n",
       "     [-93.274705, 44.94943095800005],\n",
       "     [-93.27470040699995, 44.94945298400006],\n",
       "     [-93.274687, 44.949517300000025],\n",
       "     [-93.27466454499995, 44.94962785000007],\n",
       "     [-93.27464727899996, 44.94971286800006],\n",
       "     [-93.27462618399994, 44.949780529000066],\n",
       "     [-93.27458723099994, 44.949905458000046],\n",
       "     [-93.27455050199995, 44.95002326000008],\n",
       "     [-93.27447138099996, 44.950243629000056],\n",
       "     [-93.27437784399996, 44.95045141300005],\n",
       "     [-93.27434843999998, 44.95051673900008],\n",
       "     [-93.27424314299998, 44.95070603400006],\n",
       "     [-93.27420241099998, 44.95077360200003],\n",
       "     [-93.27411594199998, 44.95091704300006],\n",
       "     [-93.27403205599995, 44.951048472000025],\n",
       "     [-93.27399314999997, 44.95110942600007],\n",
       "     [-93.27380464499998, 44.951366947000054],\n",
       "     [-93.27379678599999, 44.95137626600007],\n",
       "     [-93.27367265999999, 44.95152345200006],\n",
       "     [-93.27365689799996, 44.95154214100006],\n",
       "     [-93.27362935099995, 44.951574805000064],\n",
       "     [-93.27357883099995, 44.95163527700004],\n",
       "     [-93.27338831499998, 44.951863323000055],\n",
       "     [-93.27331983799996, 44.95194751200006],\n",
       "     [-93.27331243099997, 44.95195662000003],\n",
       "     [-93.27313849499996, 44.952170462000026],\n",
       "     [-93.27311939199996, 44.952193771000054],\n",
       "     [-93.27302764499996, 44.95230571500008],\n",
       "     [-93.27297226, 44.95237329200006],\n",
       "     [-93.27280540299995, 44.952576875000034],\n",
       "     [-93.27246949799996, 44.95297229200003],\n",
       "     [-93.27241536299994, 44.953036015000066],\n",
       "     [-93.27212172999998, 44.95338347300003],\n",
       "     [-93.27196144799996, 44.953576131000034],\n",
       "     [-93.27180221199995, 44.953767533000075],\n",
       "     [-93.27165715199999, 44.953941892000046],\n",
       "     [-93.27134597999998, 44.95430795900006],\n",
       "     [-93.27089613399994, 44.95485347500005],\n",
       "     [-93.27087110499997, 44.95488382700006],\n",
       "     [-93.27071920199995, 44.955068030000064],\n",
       "     [-93.27071589099995, 44.95507227000007],\n",
       "     [-93.27069674099994, 44.955096783000045],\n",
       "     [-93.27044014699999, 44.95542526100007],\n",
       "     [-93.27042110899998, 44.95544963300006],\n",
       "     [-93.27042042499994, 44.95545061000007],\n",
       "     [-93.27041085899998, 44.95546431500003],\n",
       "     [-93.27040271899995, 44.95547597700005],\n",
       "     [-93.27036818199997, 44.95552545600003],\n",
       "     [-93.27036321699995, 44.95553256800008],\n",
       "     [-93.27031525899997, 44.955601270000045],\n",
       "     [-93.27012484499994, 44.955874050000034],\n",
       "     [-93.27007273699996, 44.95594869900003],\n",
       "     [-93.27006591299994, 44.955958474000056],\n",
       "     [-93.27003674099996, 44.95600963800007],\n",
       "     [-93.26999916499994, 44.95607553800005],\n",
       "     [-93.26990881899997, 44.956233989000054],\n",
       "     [-93.26984651499998, 44.95634325800006],\n",
       "     [-93.26982008699997, 44.956406403000074],\n",
       "     [-93.26979100799997, 44.95647588200006],\n",
       "     [-93.26974614499994, 44.95658306900003],\n",
       "     [-93.26970802499994, 44.95667414600007],\n",
       "     [-93.26969713399995, 44.956700168000054],\n",
       "     [-93.26965157999996, 44.956882387000064],\n",
       "     [-93.26959862599995, 44.95709420900005],\n",
       "     [-93.26958693899996, 44.95714094500005],\n",
       "     [-93.26956783799994, 44.957380424000064],\n",
       "     [-93.26956119099998, 44.95746373700007],\n",
       "     [-93.26955942299998, 44.958357748000026],\n",
       "     [-93.26955543899999, 44.95912547100005],\n",
       "     [-93.26955508899994, 44.95919299700006],\n",
       "     [-93.26955505399997, 44.959199804000036],\n",
       "     [-93.26955503099998, 44.95920450600005],\n",
       "     [-93.26955502399994, 44.959205936000046],\n",
       "     [-93.26955491799998, 44.95922618700007],\n",
       "     [-93.26955444699996, 44.95931677800007],\n",
       "     [-93.26954928899994, 44.96031109300003],\n",
       "     [-93.26954630399996, 44.96088609100008],\n",
       "     [-93.26954626099996, 44.960894531000065],\n",
       "     [-93.26954623299997, 44.96089981800003],\n",
       "     [-93.26919959199995, 44.960903992000055],\n",
       "     [-93.26897503699996, 44.96090669400007],\n",
       "     [-93.26897498199997, 44.96090669400007],\n",
       "     [-93.26896721099996, 44.960906668000064],\n",
       "     [-93.26887866499999, 44.96090637000003],\n",
       "     [-93.26828693399995, 44.960904380000045],\n",
       "     [-93.26768708899999, 44.960902360000034],\n",
       "     [-93.26765404899999, 44.96090243300006],\n",
       "     [-93.26641735299995, 44.96090518300008],\n",
       "     [-93.26640621099995, 44.96090520700005],\n",
       "     [-93.26511656399998, 44.96091274500003],\n",
       "     [-93.26511649899999, 44.96091274500003],\n",
       "     [-93.26258075899995, 44.96090821400003]]]]}}"
      ]
     },
     "execution_count": 7,
     "metadata": {},
     "output_type": "execute_result"
    }
   ],
   "source": [
    "# Look at the first entry. Note the neighborhood name has key 'BDNAME'.\n",
    "mpls_nbhds[0]"
   ]
  },
  {
   "cell_type": "code",
   "execution_count": 39,
   "metadata": {},
   "outputs": [],
   "source": [
    "# Initalize the dataframe\n",
    "column_names = ['Neighborhood','Latitude', 'Longitude']\n",
    "nbhds = pd.DataFrame(columns=column_names)\n",
    "nhbds"
   ]
  },
  {
   "cell_type": "code",
   "execution_count": 41,
   "metadata": {},
   "outputs": [],
   "source": [
    "# Fill in the neighborhood names. The latitude and longitude are filled in the next step.\n",
    "for data in mpls_nbhds:\n",
    "    nbhd_name = data['properties']['BDNAME']\n",
    "    nbhds = nbhds.append({'Neighborhood':nbhd_name}, ignore_index=True)"
   ]
  },
  {
   "cell_type": "code",
   "execution_count": 51,
   "metadata": {},
   "outputs": [
    {
     "data": {
      "text/html": [
       "<div>\n",
       "<style scoped>\n",
       "    .dataframe tbody tr th:only-of-type {\n",
       "        vertical-align: middle;\n",
       "    }\n",
       "\n",
       "    .dataframe tbody tr th {\n",
       "        vertical-align: top;\n",
       "    }\n",
       "\n",
       "    .dataframe thead th {\n",
       "        text-align: right;\n",
       "    }\n",
       "</style>\n",
       "<table border=\"1\" class=\"dataframe\">\n",
       "  <thead>\n",
       "    <tr style=\"text-align: right;\">\n",
       "      <th></th>\n",
       "      <th>Neighborhood</th>\n",
       "      <th>Latitude</th>\n",
       "      <th>Longitude</th>\n",
       "    </tr>\n",
       "  </thead>\n",
       "  <tbody>\n",
       "    <tr>\n",
       "      <th>0</th>\n",
       "      <td>Phillips West</td>\n",
       "      <td>1</td>\n",
       "      <td>NaN</td>\n",
       "    </tr>\n",
       "    <tr>\n",
       "      <th>1</th>\n",
       "      <td>Downtown West</td>\n",
       "      <td>NaN</td>\n",
       "      <td>NaN</td>\n",
       "    </tr>\n",
       "    <tr>\n",
       "      <th>2</th>\n",
       "      <td>Downtown East</td>\n",
       "      <td>NaN</td>\n",
       "      <td>NaN</td>\n",
       "    </tr>\n",
       "    <tr>\n",
       "      <th>3</th>\n",
       "      <td>Ventura Village</td>\n",
       "      <td>NaN</td>\n",
       "      <td>NaN</td>\n",
       "    </tr>\n",
       "    <tr>\n",
       "      <th>4</th>\n",
       "      <td>Sumner - Glenwood</td>\n",
       "      <td>NaN</td>\n",
       "      <td>NaN</td>\n",
       "    </tr>\n",
       "  </tbody>\n",
       "</table>\n",
       "</div>"
      ],
      "text/plain": [
       "        Neighborhood Latitude Longitude\n",
       "0      Phillips West        1       NaN\n",
       "1      Downtown West      NaN       NaN\n",
       "2      Downtown East      NaN       NaN\n",
       "3    Ventura Village      NaN       NaN\n",
       "4  Sumner - Glenwood      NaN       NaN"
      ]
     },
     "execution_count": 51,
     "metadata": {},
     "output_type": "execute_result"
    }
   ],
   "source": [
    "nbhds.head()"
   ]
  },
  {
   "cell_type": "markdown",
   "metadata": {},
   "source": [
    "#### Populate the latitude and longitude using Geopy"
   ]
  },
  {
   "cell_type": "code",
   "execution_count": 90,
   "metadata": {},
   "outputs": [
    {
     "name": "stdout",
     "output_type": "stream",
     "text": [
      "Downtown West, Minneapolis, MN is not found on geopy.\n",
      "Ventura Village, Minneapolis, MN is not found on geopy.\n",
      "Humboldt Industrial Area, Minneapolis, MN is not found on geopy.\n",
      "South Uptown, Minneapolis, MN is not found on geopy.\n",
      "Mid - City Industrial, Minneapolis, MN is not found on geopy.\n",
      "Nicollet Island - East Bank, Minneapolis, MN is not found on geopy.\n",
      "['Downtown West', 'Ventura Village', 'Humboldt Industrial Area', 'South Uptown', 'Mid - City Industrial', 'Nicollet Island - East Bank']\n"
     ]
    },
    {
     "data": {
      "text/html": [
       "<div>\n",
       "<style scoped>\n",
       "    .dataframe tbody tr th:only-of-type {\n",
       "        vertical-align: middle;\n",
       "    }\n",
       "\n",
       "    .dataframe tbody tr th {\n",
       "        vertical-align: top;\n",
       "    }\n",
       "\n",
       "    .dataframe thead th {\n",
       "        text-align: right;\n",
       "    }\n",
       "</style>\n",
       "<table border=\"1\" class=\"dataframe\">\n",
       "  <thead>\n",
       "    <tr style=\"text-align: right;\">\n",
       "      <th></th>\n",
       "      <th>Neighborhood</th>\n",
       "      <th>Latitude</th>\n",
       "      <th>Longitude</th>\n",
       "    </tr>\n",
       "  </thead>\n",
       "  <tbody>\n",
       "    <tr>\n",
       "      <th>0</th>\n",
       "      <td>Phillips West</td>\n",
       "      <td>44.9539</td>\n",
       "      <td>-93.2663</td>\n",
       "    </tr>\n",
       "    <tr>\n",
       "      <th>1</th>\n",
       "      <td>Downtown West</td>\n",
       "      <td>NaN</td>\n",
       "      <td>NaN</td>\n",
       "    </tr>\n",
       "    <tr>\n",
       "      <th>2</th>\n",
       "      <td>Downtown East</td>\n",
       "      <td>44.975</td>\n",
       "      <td>-93.2599</td>\n",
       "    </tr>\n",
       "    <tr>\n",
       "      <th>3</th>\n",
       "      <td>Ventura Village</td>\n",
       "      <td>NaN</td>\n",
       "      <td>NaN</td>\n",
       "    </tr>\n",
       "    <tr>\n",
       "      <th>4</th>\n",
       "      <td>Sumner - Glenwood</td>\n",
       "      <td>44.9837</td>\n",
       "      <td>-93.2914</td>\n",
       "    </tr>\n",
       "  </tbody>\n",
       "</table>\n",
       "</div>"
      ],
      "text/plain": [
       "        Neighborhood Latitude Longitude\n",
       "0      Phillips West  44.9539  -93.2663\n",
       "1      Downtown West      NaN       NaN\n",
       "2      Downtown East   44.975  -93.2599\n",
       "3    Ventura Village      NaN       NaN\n",
       "4  Sumner - Glenwood  44.9837  -93.2914"
      ]
     },
     "execution_count": 90,
     "metadata": {},
     "output_type": "execute_result"
    }
   ],
   "source": [
    "counter = 0\n",
    "missing_addresses = []\n",
    "for nbhd in nbhds['Neighborhood']:\n",
    "    address = nbhd + ', Minneapolis, MN'\n",
    "    geolocator = Nominatim(user_agent=\"mpls_explorer\")\n",
    "    location = geolocator.geocode(address)\n",
    "    if location is None:\n",
    "        print(address+' is not found on geopy.')\n",
    "        missing_addresses = missing_addresses +[nbhd]\n",
    "    else:\n",
    "        latitude = location.latitude\n",
    "        longitude = location.longitude\n",
    "        nbhds['Latitude'][counter] = latitude\n",
    "        nbhds['Longitude'][counter] = longitude\n",
    "    counter+=1\n",
    "print(missing_addresses)\n",
    "nbhds.head()"
   ]
  },
  {
   "cell_type": "markdown",
   "metadata": {},
   "source": [
    "There are 6 neighborhoods that Geopy could not identify. We can manually input these by pulling the location data from a google search."
   ]
  },
  {
   "cell_type": "code",
   "execution_count": 92,
   "metadata": {},
   "outputs": [],
   "source": [
    "Downtown_West =[44.9742, -93.2733]\n",
    "Ventura_Village = [44.9618, -93.2582]\n",
    "Humboldt_Industrial_Area = [45.0421, -93.3077]\n",
    "South_Uptown = [44.9411, -93.2911]\n",
    "Mid_City_Industrial = [44.9989, -93.2178]\n",
    "Nicollet_Island = [44.9879, -93.2629]\n",
    "\n",
    "missing_latlon = [Downtown_West, Ventura_Village, Humboldt_Industrial_Area, South_Uptown, Mid_City_Industrial, Nicollet_Island]"
   ]
  },
  {
   "cell_type": "code",
   "execution_count": 96,
   "metadata": {},
   "outputs": [
    {
     "data": {
      "text/plain": [
       "{'Downtown West': [44.9742, -93.2733],\n",
       " 'Ventura Village': [44.9618, -93.2582],\n",
       " 'Humboldt Industrial Area': [45.0421, -93.3077],\n",
       " 'South Uptown': [44.9411, -93.2911],\n",
       " 'Mid - City Industrial': [44.9989, -93.2178],\n",
       " 'Nicollet Island - East Bank': [44.9879, -93.2629]}"
      ]
     },
     "execution_count": 96,
     "metadata": {},
     "output_type": "execute_result"
    }
   ],
   "source": [
    "missing_dict={}\n",
    "for j in range(0,6):\n",
    "    entry ={missing_addresses[j]:missing_latlon[j]}\n",
    "    missing_dict.update(entry)\n",
    "missing_dict"
   ]
  },
  {
   "cell_type": "code",
   "execution_count": 112,
   "metadata": {},
   "outputs": [
    {
     "data": {
      "text/html": [
       "<div>\n",
       "<style scoped>\n",
       "    .dataframe tbody tr th:only-of-type {\n",
       "        vertical-align: middle;\n",
       "    }\n",
       "\n",
       "    .dataframe tbody tr th {\n",
       "        vertical-align: top;\n",
       "    }\n",
       "\n",
       "    .dataframe thead th {\n",
       "        text-align: right;\n",
       "    }\n",
       "</style>\n",
       "<table border=\"1\" class=\"dataframe\">\n",
       "  <thead>\n",
       "    <tr style=\"text-align: right;\">\n",
       "      <th></th>\n",
       "      <th>Neighborhood</th>\n",
       "      <th>Latitude</th>\n",
       "      <th>Longitude</th>\n",
       "    </tr>\n",
       "  </thead>\n",
       "  <tbody>\n",
       "    <tr>\n",
       "      <th>0</th>\n",
       "      <td>Phillips West</td>\n",
       "      <td>44.9539</td>\n",
       "      <td>-93.2663</td>\n",
       "    </tr>\n",
       "    <tr>\n",
       "      <th>1</th>\n",
       "      <td>Downtown West</td>\n",
       "      <td>44.9742</td>\n",
       "      <td>-93.2733</td>\n",
       "    </tr>\n",
       "    <tr>\n",
       "      <th>2</th>\n",
       "      <td>Downtown East</td>\n",
       "      <td>44.975</td>\n",
       "      <td>-93.2599</td>\n",
       "    </tr>\n",
       "    <tr>\n",
       "      <th>3</th>\n",
       "      <td>Ventura Village</td>\n",
       "      <td>44.9618</td>\n",
       "      <td>-93.2582</td>\n",
       "    </tr>\n",
       "    <tr>\n",
       "      <th>4</th>\n",
       "      <td>Sumner - Glenwood</td>\n",
       "      <td>44.9837</td>\n",
       "      <td>-93.2914</td>\n",
       "    </tr>\n",
       "  </tbody>\n",
       "</table>\n",
       "</div>"
      ],
      "text/plain": [
       "        Neighborhood Latitude Longitude\n",
       "0      Phillips West  44.9539  -93.2663\n",
       "1      Downtown West  44.9742  -93.2733\n",
       "2      Downtown East   44.975  -93.2599\n",
       "3    Ventura Village  44.9618  -93.2582\n",
       "4  Sumner - Glenwood  44.9837  -93.2914"
      ]
     },
     "execution_count": 112,
     "metadata": {},
     "output_type": "execute_result"
    }
   ],
   "source": [
    "# Fill in missing lat/long values into our dataframe\n",
    "for j in range(0,6):\n",
    "    value=nbhds.index[nbhds['Neighborhood']==missing_addresses[j]]\n",
    "    nbhds.loc[value[0], 'Latitude'] = missing_dict[missing_addresses[j]][0]\n",
    "    nbhds.loc[value[0], 'Longitude'] = missing_dict[missing_addresses[j]][1]\n",
    "\n",
    "nbhds.head()"
   ]
  },
  {
   "cell_type": "code",
   "execution_count": 114,
   "metadata": {},
   "outputs": [
    {
     "data": {
      "text/plain": [
       "(87, 3)"
      ]
     },
     "execution_count": 114,
     "metadata": {},
     "output_type": "execute_result"
    }
   ],
   "source": [
    "nbhds.shape"
   ]
  },
  {
   "cell_type": "markdown",
   "metadata": {},
   "source": [
    "According to Wikipedia, there are 81 official neighborhoods. Here we tally 87. Some cross-referencing perhaps is in order."
   ]
  },
  {
   "cell_type": "markdown",
   "metadata": {},
   "source": [
    "### Use FourSquare API to gather data about venues in the neighborhoods."
   ]
  },
  {
   "cell_type": "code",
   "execution_count": null,
   "metadata": {},
   "outputs": [],
   "source": []
  }
 ],
 "metadata": {
  "kernelspec": {
   "display_name": "Python 3",
   "language": "python",
   "name": "python3"
  },
  "language_info": {
   "codemirror_mode": {
    "name": "ipython",
    "version": 3
   },
   "file_extension": ".py",
   "mimetype": "text/x-python",
   "name": "python",
   "nbconvert_exporter": "python",
   "pygments_lexer": "ipython3",
   "version": "3.7.6"
  }
 },
 "nbformat": 4,
 "nbformat_minor": 4
}
