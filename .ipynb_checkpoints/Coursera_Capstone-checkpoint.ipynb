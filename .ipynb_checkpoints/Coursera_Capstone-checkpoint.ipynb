{
 "cells": [
  {
   "cell_type": "markdown",
   "metadata": {},
   "source": [
    "# Coursera Capstone\n",
    "## The Battle of the Neighborhoods\n",
    "This document will be used for the Coursera Capstone project, part of the IBM Data Science Professional Certificate."
   ]
  },
  {
   "cell_type": "code",
   "execution_count": 55,
   "metadata": {},
   "outputs": [
    {
     "name": "stdout",
     "output_type": "stream",
     "text": [
      "Collecting package metadata (current_repodata.json): done\n",
      "Solving environment: done\n",
      "\n",
      "# All requested packages already installed.\n",
      "\n"
     ]
    }
   ],
   "source": [
    "import pandas as pd\n",
    "import numpy as np\n",
    "\n",
    "import json # library to handle JSON files\n",
    "\n",
    "# Matplotlib and associated plotting modules\n",
    "import matplotlib.cm as cm\n",
    "import matplotlib.colors as colors\n",
    "\n",
    "# libraries for displaying images\n",
    "from IPython.display import Image \n",
    "from IPython.core.display import HTML \n",
    "\n",
    "#!conda install -c conda-forge geopy --yes # uncomment this line if you haven't completed the Foursquare API lab\n",
    "from geopy.geocoders import Nominatim # convert an address into latitude and longitude values\n",
    "\n",
    "# import k-means from clustering stage\n",
    "from sklearn.cluster import KMeans\n",
    "\n",
    "#!conda install -c conda-forge folium=0.5.0 --yes # uncomment this line if you haven't completed the Foursquare API lab\n",
    "import folium # map rendering library\n",
    "\n",
    "import requests # library to handle requests\n",
    "\n",
    "from pandas.io.json import json_normalize # tranform JSON file into a pandas dataframe"
   ]
  },
  {
   "cell_type": "markdown",
   "metadata": {},
   "source": [
    "### Create a dataframe of neighborhoods in Minneapolis\n",
    "As far as I could tell, the data for Minneapolis neighborhoods did not come attached with latitude and longitude values. The following section creates a dataframe with neighborhood names and attached lat/long values."
   ]
  },
  {
   "cell_type": "code",
   "execution_count": 4,
   "metadata": {},
   "outputs": [],
   "source": [
    "# Data retrieved from\n",
    "# https://opendata.minneapolismn.gov/datasets/minneapolis-neighborhoods\n",
    "# Data downloaded and placed in local directory\n",
    "\n",
    "with open('Minneapolis_Neighborhoods.geojson.json') as jsondata:\n",
    "    mpls_data = json.load(jsondata)"
   ]
  },
  {
   "cell_type": "markdown",
   "metadata": {},
   "source": [
    "Define `mpls_nbhds` to be the features of the geojson file imported above."
   ]
  },
  {
   "cell_type": "code",
   "execution_count": 6,
   "metadata": {},
   "outputs": [],
   "source": [
    "mpls_nbhds = mpls_data['features']"
   ]
  },
  {
   "cell_type": "code",
   "execution_count": null,
   "metadata": {},
   "outputs": [],
   "source": [
    "# Look at the first entry. Note the neighborhood name has key 'BDNAME'.\n",
    "mpls_nbhds[0]"
   ]
  },
  {
   "cell_type": "code",
   "execution_count": 39,
   "metadata": {},
   "outputs": [],
   "source": [
    "# Initalize the dataframe\n",
    "column_names = ['Neighborhood','Latitude', 'Longitude']\n",
    "nbhds = pd.DataFrame(columns=column_names)\n",
    "nhbds"
   ]
  },
  {
   "cell_type": "code",
   "execution_count": 41,
   "metadata": {},
   "outputs": [],
   "source": [
    "# Fill in the neighborhood names. The latitude and longitude are filled in the next step.\n",
    "for data in mpls_nbhds:\n",
    "    nbhd_name = data['properties']['BDNAME']\n",
    "    nbhds = nbhds.append({'Neighborhood':nbhd_name}, ignore_index=True)"
   ]
  },
  {
   "cell_type": "code",
   "execution_count": 51,
   "metadata": {},
   "outputs": [
    {
     "data": {
      "text/html": [
       "<div>\n",
       "<style scoped>\n",
       "    .dataframe tbody tr th:only-of-type {\n",
       "        vertical-align: middle;\n",
       "    }\n",
       "\n",
       "    .dataframe tbody tr th {\n",
       "        vertical-align: top;\n",
       "    }\n",
       "\n",
       "    .dataframe thead th {\n",
       "        text-align: right;\n",
       "    }\n",
       "</style>\n",
       "<table border=\"1\" class=\"dataframe\">\n",
       "  <thead>\n",
       "    <tr style=\"text-align: right;\">\n",
       "      <th></th>\n",
       "      <th>Neighborhood</th>\n",
       "      <th>Latitude</th>\n",
       "      <th>Longitude</th>\n",
       "    </tr>\n",
       "  </thead>\n",
       "  <tbody>\n",
       "    <tr>\n",
       "      <th>0</th>\n",
       "      <td>Phillips West</td>\n",
       "      <td>1</td>\n",
       "      <td>NaN</td>\n",
       "    </tr>\n",
       "    <tr>\n",
       "      <th>1</th>\n",
       "      <td>Downtown West</td>\n",
       "      <td>NaN</td>\n",
       "      <td>NaN</td>\n",
       "    </tr>\n",
       "    <tr>\n",
       "      <th>2</th>\n",
       "      <td>Downtown East</td>\n",
       "      <td>NaN</td>\n",
       "      <td>NaN</td>\n",
       "    </tr>\n",
       "    <tr>\n",
       "      <th>3</th>\n",
       "      <td>Ventura Village</td>\n",
       "      <td>NaN</td>\n",
       "      <td>NaN</td>\n",
       "    </tr>\n",
       "    <tr>\n",
       "      <th>4</th>\n",
       "      <td>Sumner - Glenwood</td>\n",
       "      <td>NaN</td>\n",
       "      <td>NaN</td>\n",
       "    </tr>\n",
       "  </tbody>\n",
       "</table>\n",
       "</div>"
      ],
      "text/plain": [
       "        Neighborhood Latitude Longitude\n",
       "0      Phillips West        1       NaN\n",
       "1      Downtown West      NaN       NaN\n",
       "2      Downtown East      NaN       NaN\n",
       "3    Ventura Village      NaN       NaN\n",
       "4  Sumner - Glenwood      NaN       NaN"
      ]
     },
     "execution_count": 51,
     "metadata": {},
     "output_type": "execute_result"
    }
   ],
   "source": [
    "nbhds.head()"
   ]
  },
  {
   "cell_type": "markdown",
   "metadata": {},
   "source": [
    "#### Populate the latitude and longitude using Geopy"
   ]
  },
  {
   "cell_type": "code",
   "execution_count": 90,
   "metadata": {},
   "outputs": [
    {
     "name": "stdout",
     "output_type": "stream",
     "text": [
      "Downtown West, Minneapolis, MN is not found on geopy.\n",
      "Ventura Village, Minneapolis, MN is not found on geopy.\n",
      "Humboldt Industrial Area, Minneapolis, MN is not found on geopy.\n",
      "South Uptown, Minneapolis, MN is not found on geopy.\n",
      "Mid - City Industrial, Minneapolis, MN is not found on geopy.\n",
      "Nicollet Island - East Bank, Minneapolis, MN is not found on geopy.\n",
      "['Downtown West', 'Ventura Village', 'Humboldt Industrial Area', 'South Uptown', 'Mid - City Industrial', 'Nicollet Island - East Bank']\n"
     ]
    },
    {
     "data": {
      "text/html": [
       "<div>\n",
       "<style scoped>\n",
       "    .dataframe tbody tr th:only-of-type {\n",
       "        vertical-align: middle;\n",
       "    }\n",
       "\n",
       "    .dataframe tbody tr th {\n",
       "        vertical-align: top;\n",
       "    }\n",
       "\n",
       "    .dataframe thead th {\n",
       "        text-align: right;\n",
       "    }\n",
       "</style>\n",
       "<table border=\"1\" class=\"dataframe\">\n",
       "  <thead>\n",
       "    <tr style=\"text-align: right;\">\n",
       "      <th></th>\n",
       "      <th>Neighborhood</th>\n",
       "      <th>Latitude</th>\n",
       "      <th>Longitude</th>\n",
       "    </tr>\n",
       "  </thead>\n",
       "  <tbody>\n",
       "    <tr>\n",
       "      <th>0</th>\n",
       "      <td>Phillips West</td>\n",
       "      <td>44.9539</td>\n",
       "      <td>-93.2663</td>\n",
       "    </tr>\n",
       "    <tr>\n",
       "      <th>1</th>\n",
       "      <td>Downtown West</td>\n",
       "      <td>NaN</td>\n",
       "      <td>NaN</td>\n",
       "    </tr>\n",
       "    <tr>\n",
       "      <th>2</th>\n",
       "      <td>Downtown East</td>\n",
       "      <td>44.975</td>\n",
       "      <td>-93.2599</td>\n",
       "    </tr>\n",
       "    <tr>\n",
       "      <th>3</th>\n",
       "      <td>Ventura Village</td>\n",
       "      <td>NaN</td>\n",
       "      <td>NaN</td>\n",
       "    </tr>\n",
       "    <tr>\n",
       "      <th>4</th>\n",
       "      <td>Sumner - Glenwood</td>\n",
       "      <td>44.9837</td>\n",
       "      <td>-93.2914</td>\n",
       "    </tr>\n",
       "  </tbody>\n",
       "</table>\n",
       "</div>"
      ],
      "text/plain": [
       "        Neighborhood Latitude Longitude\n",
       "0      Phillips West  44.9539  -93.2663\n",
       "1      Downtown West      NaN       NaN\n",
       "2      Downtown East   44.975  -93.2599\n",
       "3    Ventura Village      NaN       NaN\n",
       "4  Sumner - Glenwood  44.9837  -93.2914"
      ]
     },
     "execution_count": 90,
     "metadata": {},
     "output_type": "execute_result"
    }
   ],
   "source": [
    "counter = 0\n",
    "missing_addresses = []\n",
    "for nbhd in nbhds['Neighborhood']:\n",
    "    address = nbhd + ', Minneapolis, MN'\n",
    "    geolocator = Nominatim(user_agent=\"mpls_explorer\")\n",
    "    location = geolocator.geocode(address)\n",
    "    if location is None:\n",
    "        print(address+' is not found on geopy.')\n",
    "        missing_addresses = missing_addresses +[nbhd]\n",
    "    else:\n",
    "        latitude = location.latitude\n",
    "        longitude = location.longitude\n",
    "        nbhds['Latitude'][counter] = latitude\n",
    "        nbhds['Longitude'][counter] = longitude\n",
    "    counter+=1\n",
    "print(missing_addresses)\n",
    "nbhds.head()"
   ]
  },
  {
   "cell_type": "markdown",
   "metadata": {},
   "source": [
    "There are 6 neighborhoods that Geopy could not identify. We can manually input these by pulling the location data from a google search."
   ]
  },
  {
   "cell_type": "code",
   "execution_count": 92,
   "metadata": {},
   "outputs": [],
   "source": [
    "Downtown_West =[44.9742, -93.2733]\n",
    "Ventura_Village = [44.9618, -93.2582]\n",
    "Humboldt_Industrial_Area = [45.0421, -93.3077]\n",
    "South_Uptown = [44.9411, -93.2911]\n",
    "Mid_City_Industrial = [44.9989, -93.2178]\n",
    "Nicollet_Island = [44.9879, -93.2629]\n",
    "\n",
    "missing_latlon = [Downtown_West, Ventura_Village, Humboldt_Industrial_Area, South_Uptown, Mid_City_Industrial, Nicollet_Island]"
   ]
  },
  {
   "cell_type": "code",
   "execution_count": 96,
   "metadata": {},
   "outputs": [
    {
     "data": {
      "text/plain": [
       "{'Downtown West': [44.9742, -93.2733],\n",
       " 'Ventura Village': [44.9618, -93.2582],\n",
       " 'Humboldt Industrial Area': [45.0421, -93.3077],\n",
       " 'South Uptown': [44.9411, -93.2911],\n",
       " 'Mid - City Industrial': [44.9989, -93.2178],\n",
       " 'Nicollet Island - East Bank': [44.9879, -93.2629]}"
      ]
     },
     "execution_count": 96,
     "metadata": {},
     "output_type": "execute_result"
    }
   ],
   "source": [
    "missing_dict={}\n",
    "for j in range(0,6):\n",
    "    entry ={missing_addresses[j]:missing_latlon[j]}\n",
    "    missing_dict.update(entry)\n",
    "missing_dict"
   ]
  },
  {
   "cell_type": "code",
   "execution_count": 112,
   "metadata": {},
   "outputs": [
    {
     "data": {
      "text/html": [
       "<div>\n",
       "<style scoped>\n",
       "    .dataframe tbody tr th:only-of-type {\n",
       "        vertical-align: middle;\n",
       "    }\n",
       "\n",
       "    .dataframe tbody tr th {\n",
       "        vertical-align: top;\n",
       "    }\n",
       "\n",
       "    .dataframe thead th {\n",
       "        text-align: right;\n",
       "    }\n",
       "</style>\n",
       "<table border=\"1\" class=\"dataframe\">\n",
       "  <thead>\n",
       "    <tr style=\"text-align: right;\">\n",
       "      <th></th>\n",
       "      <th>Neighborhood</th>\n",
       "      <th>Latitude</th>\n",
       "      <th>Longitude</th>\n",
       "    </tr>\n",
       "  </thead>\n",
       "  <tbody>\n",
       "    <tr>\n",
       "      <th>0</th>\n",
       "      <td>Phillips West</td>\n",
       "      <td>44.9539</td>\n",
       "      <td>-93.2663</td>\n",
       "    </tr>\n",
       "    <tr>\n",
       "      <th>1</th>\n",
       "      <td>Downtown West</td>\n",
       "      <td>44.9742</td>\n",
       "      <td>-93.2733</td>\n",
       "    </tr>\n",
       "    <tr>\n",
       "      <th>2</th>\n",
       "      <td>Downtown East</td>\n",
       "      <td>44.975</td>\n",
       "      <td>-93.2599</td>\n",
       "    </tr>\n",
       "    <tr>\n",
       "      <th>3</th>\n",
       "      <td>Ventura Village</td>\n",
       "      <td>44.9618</td>\n",
       "      <td>-93.2582</td>\n",
       "    </tr>\n",
       "    <tr>\n",
       "      <th>4</th>\n",
       "      <td>Sumner - Glenwood</td>\n",
       "      <td>44.9837</td>\n",
       "      <td>-93.2914</td>\n",
       "    </tr>\n",
       "  </tbody>\n",
       "</table>\n",
       "</div>"
      ],
      "text/plain": [
       "        Neighborhood Latitude Longitude\n",
       "0      Phillips West  44.9539  -93.2663\n",
       "1      Downtown West  44.9742  -93.2733\n",
       "2      Downtown East   44.975  -93.2599\n",
       "3    Ventura Village  44.9618  -93.2582\n",
       "4  Sumner - Glenwood  44.9837  -93.2914"
      ]
     },
     "execution_count": 112,
     "metadata": {},
     "output_type": "execute_result"
    }
   ],
   "source": [
    "# Fill in missing lat/long values into our dataframe\n",
    "for j in range(0,6):\n",
    "    value=nbhds.index[nbhds['Neighborhood']==missing_addresses[j]]\n",
    "    nbhds.loc[value[0], 'Latitude'] = missing_dict[missing_addresses[j]][0]\n",
    "    nbhds.loc[value[0], 'Longitude'] = missing_dict[missing_addresses[j]][1]\n",
    "\n",
    "nbhds.head()"
   ]
  },
  {
   "cell_type": "code",
   "execution_count": 114,
   "metadata": {},
   "outputs": [
    {
     "data": {
      "text/plain": [
       "(87, 3)"
      ]
     },
     "execution_count": 114,
     "metadata": {},
     "output_type": "execute_result"
    }
   ],
   "source": [
    "nbhds.shape"
   ]
  },
  {
   "cell_type": "markdown",
   "metadata": {},
   "source": [
    "According to Wikipedia, there are 81 official neighborhoods. Here we tally 87. Some cross-referencing perhaps is in order."
   ]
  },
  {
   "cell_type": "markdown",
   "metadata": {},
   "source": [
    "### Use FourSquare API to gather data about breweries in Minneapolis"
   ]
  },
  {
   "cell_type": "code",
   "execution_count": 207,
   "metadata": {},
   "outputs": [
    {
     "name": "stderr",
     "output_type": "stream",
     "text": [
      "/Users/no50free/opt/anaconda3/lib/python3.7/site-packages/ipykernel_launcher.py:31: FutureWarning: pandas.io.json.json_normalize is deprecated, use pandas.json_normalize instead\n"
     ]
    },
    {
     "ename": "KeyError",
     "evalue": "'venues'",
     "output_type": "error",
     "traceback": [
      "\u001b[0;31m---------------------------------------------------------------------------\u001b[0m",
      "\u001b[0;31mKeyError\u001b[0m                                  Traceback (most recent call last)",
      "\u001b[0;32m<ipython-input-207-38d5838a83b5>\u001b[0m in \u001b[0;36m<module>\u001b[0;34m\u001b[0m\n\u001b[1;32m     49\u001b[0m \u001b[0;34m\u001b[0m\u001b[0m\n\u001b[1;32m     50\u001b[0m \u001b[0mresults\u001b[0m \u001b[0;34m=\u001b[0m \u001b[0mrequests\u001b[0m\u001b[0;34m.\u001b[0m\u001b[0mget\u001b[0m\u001b[0;34m(\u001b[0m\u001b[0murl\u001b[0m\u001b[0;34m)\u001b[0m\u001b[0;34m.\u001b[0m\u001b[0mjson\u001b[0m\u001b[0;34m(\u001b[0m\u001b[0;34m)\u001b[0m\u001b[0;34m\u001b[0m\u001b[0;34m\u001b[0m\u001b[0m\n\u001b[0;32m---> 51\u001b[0;31m \u001b[0mvenues\u001b[0m \u001b[0;34m=\u001b[0m \u001b[0mresults\u001b[0m\u001b[0;34m[\u001b[0m\u001b[0;34m'response'\u001b[0m\u001b[0;34m]\u001b[0m\u001b[0;34m[\u001b[0m\u001b[0;34m'venues'\u001b[0m\u001b[0;34m]\u001b[0m\u001b[0;34m\u001b[0m\u001b[0;34m\u001b[0m\u001b[0m\n\u001b[0m\u001b[1;32m     52\u001b[0m \u001b[0;31m# tranform venues into a dataframe\u001b[0m\u001b[0;34m\u001b[0m\u001b[0;34m\u001b[0m\u001b[0;34m\u001b[0m\u001b[0m\n\u001b[1;32m     53\u001b[0m \u001b[0;31m#df_brewery = json_normalize(venues)\u001b[0m\u001b[0;34m\u001b[0m\u001b[0;34m\u001b[0m\u001b[0;34m\u001b[0m\u001b[0m\n",
      "\u001b[0;31mKeyError\u001b[0m: 'venues'"
     ]
    }
   ],
   "source": [
    "\n",
    "\n",
    "search_query ='Brewing'\n",
    "\n",
    "LIMIT = 200\n",
    "#radius = 25000\n",
    "url = 'https://api.foursquare.com/v2/venues/\\\n",
    "search?client_id={}&client_secret={}&v={}\\\n",
    "&ll={},{}&query={}&limit={}'\\\n",
    ".format(CLIENT_ID,\n",
    "        CLIENT_SECRET,\n",
    "        VERSION,\n",
    "        mpls_latitude,\n",
    "        mpls_longitude,\n",
    "        search_query,\n",
    "        LIMIT)\n",
    "url\n",
    "\n",
    "results = requests.get(url).json()\n",
    "venues = results['response']['venues']\n",
    "# tranform venues into a dataframe\n",
    "df_brewing = json_normalize(venues)\n",
    "\n",
    "#### Second query\n",
    "\n",
    "search_query ='Brewery'\n",
    "category = '50327c8591d4c4b30a586d5d' #Foursquare category for brewery\n",
    "\n",
    "url = 'https://api.foursquare.com/v2/venues/\\\n",
    "explore?client_id={}&client_secret={}&v={}\\\n",
    "&ll={},{}&categoryId={}&limit={}'\\\n",
    ".format(CLIENT_ID,\n",
    "        CLIENT_SECRET,\n",
    "        VERSION,\n",
    "        mpls_latitude,\n",
    "        mpls_longitude,\n",
    "        category,\n",
    "        LIMIT)\n",
    "url\n",
    "\n",
    "results = requests.get(url).json()\n",
    "venues = results['response']['venues']\n",
    "# tranform venues into a dataframe\n",
    "#df_brewery = json_normalize(venues)\n",
    "venues\n"
   ]
  },
  {
   "cell_type": "code",
   "execution_count": null,
   "metadata": {},
   "outputs": [],
   "source": [
    "search_query ='Brewing'\n",
    "\n",
    "LIMIT = 200\n",
    "#radius = 25000\n",
    "url = 'https://api.foursquare.com/v2/venues/\\\n",
    "search?client_id={}&client_secret={}&v={}\\\n",
    "&ll={},{}&query={}&limit={}'\\\n",
    ".format(CLIENT_ID,\n",
    "        CLIENT_SECRET,\n",
    "        VERSION,\n",
    "        mpls_latitude,\n",
    "        mpls_longitude,\n",
    "        search_query,\n",
    "        LIMIT)\n",
    "url\n",
    "\n",
    "results = requests.get(url).json()\n",
    "#results\n",
    "venues = results['response']['venues']\n",
    "# tranform venues into a dataframe\n",
    "#df_brewery = json_normalize(venues)\n",
    "results"
   ]
  },
  {
   "cell_type": "code",
   "execution_count": 230,
   "metadata": {},
   "outputs": [
    {
     "data": {
      "text/html": [
       "<div>\n",
       "<style scoped>\n",
       "    .dataframe tbody tr th:only-of-type {\n",
       "        vertical-align: middle;\n",
       "    }\n",
       "\n",
       "    .dataframe tbody tr th {\n",
       "        vertical-align: top;\n",
       "    }\n",
       "\n",
       "    .dataframe thead th {\n",
       "        text-align: right;\n",
       "    }\n",
       "</style>\n",
       "<table border=\"1\" class=\"dataframe\">\n",
       "  <thead>\n",
       "    <tr style=\"text-align: right;\">\n",
       "      <th></th>\n",
       "      <th>referralId</th>\n",
       "      <th>reasons.count</th>\n",
       "      <th>reasons.items</th>\n",
       "      <th>venue.id</th>\n",
       "      <th>venue.name</th>\n",
       "      <th>venue.location.address</th>\n",
       "      <th>venue.location.crossStreet</th>\n",
       "      <th>venue.location.lat</th>\n",
       "      <th>venue.location.lng</th>\n",
       "      <th>venue.location.labeledLatLngs</th>\n",
       "      <th>...</th>\n",
       "      <th>venue.photos.count</th>\n",
       "      <th>venue.photos.groups</th>\n",
       "      <th>venue.location.neighborhood</th>\n",
       "      <th>venue.venuePage.id</th>\n",
       "      <th>venue.delivery.id</th>\n",
       "      <th>venue.delivery.url</th>\n",
       "      <th>venue.delivery.provider.name</th>\n",
       "      <th>venue.delivery.provider.icon.prefix</th>\n",
       "      <th>venue.delivery.provider.icon.sizes</th>\n",
       "      <th>venue.delivery.provider.icon.name</th>\n",
       "    </tr>\n",
       "  </thead>\n",
       "  <tbody>\n",
       "    <tr>\n",
       "      <th>0</th>\n",
       "      <td>e-0-4c8d128bc37a6dcb86d0fc7a-0</td>\n",
       "      <td>0</td>\n",
       "      <td>[{'summary': 'This spot is popular', 'type': '...</td>\n",
       "      <td>4c8d128bc37a6dcb86d0fc7a</td>\n",
       "      <td>Fulton Brewing Company</td>\n",
       "      <td>414 6th Ave N</td>\n",
       "      <td>at 5th St. N</td>\n",
       "      <td>44.984862</td>\n",
       "      <td>-93.278828</td>\n",
       "      <td>[{'label': 'display', 'lat': 44.98486196804921...</td>\n",
       "      <td>...</td>\n",
       "      <td>0</td>\n",
       "      <td>[]</td>\n",
       "      <td>NaN</td>\n",
       "      <td>NaN</td>\n",
       "      <td>NaN</td>\n",
       "      <td>NaN</td>\n",
       "      <td>NaN</td>\n",
       "      <td>NaN</td>\n",
       "      <td>NaN</td>\n",
       "      <td>NaN</td>\n",
       "    </tr>\n",
       "    <tr>\n",
       "      <th>1</th>\n",
       "      <td>e-0-5047b636e4b04db60102f96d-1</td>\n",
       "      <td>0</td>\n",
       "      <td>[{'summary': 'This spot is popular', 'type': '...</td>\n",
       "      <td>5047b636e4b04db60102f96d</td>\n",
       "      <td>Dangerous Man Brewing Co</td>\n",
       "      <td>1300 2nd St NE</td>\n",
       "      <td>NaN</td>\n",
       "      <td>45.001049</td>\n",
       "      <td>-93.266337</td>\n",
       "      <td>[{'label': 'display', 'lat': 45.00104863763394...</td>\n",
       "      <td>...</td>\n",
       "      <td>0</td>\n",
       "      <td>[]</td>\n",
       "      <td>NaN</td>\n",
       "      <td>NaN</td>\n",
       "      <td>NaN</td>\n",
       "      <td>NaN</td>\n",
       "      <td>NaN</td>\n",
       "      <td>NaN</td>\n",
       "      <td>NaN</td>\n",
       "      <td>NaN</td>\n",
       "    </tr>\n",
       "    <tr>\n",
       "      <th>2</th>\n",
       "      <td>e-0-52190bad11d28f3e1ce73946-2</td>\n",
       "      <td>0</td>\n",
       "      <td>[{'summary': 'This spot is popular', 'type': '...</td>\n",
       "      <td>52190bad11d28f3e1ce73946</td>\n",
       "      <td>Surly Brewing Company</td>\n",
       "      <td>520 Malcolm Ave SE</td>\n",
       "      <td>SE 5th St</td>\n",
       "      <td>44.973226</td>\n",
       "      <td>-93.210072</td>\n",
       "      <td>[{'label': 'display', 'lat': 44.97322598772595...</td>\n",
       "      <td>...</td>\n",
       "      <td>0</td>\n",
       "      <td>[]</td>\n",
       "      <td>Prospect Park, Minneapolis, MN</td>\n",
       "      <td>NaN</td>\n",
       "      <td>NaN</td>\n",
       "      <td>NaN</td>\n",
       "      <td>NaN</td>\n",
       "      <td>NaN</td>\n",
       "      <td>NaN</td>\n",
       "      <td>NaN</td>\n",
       "    </tr>\n",
       "    <tr>\n",
       "      <th>3</th>\n",
       "      <td>e-0-56242508498e6aeb80142c2c-3</td>\n",
       "      <td>0</td>\n",
       "      <td>[{'summary': 'This spot is popular', 'type': '...</td>\n",
       "      <td>56242508498e6aeb80142c2c</td>\n",
       "      <td>Lakes &amp; Legends Brewing Company</td>\n",
       "      <td>1368 Lasalle Ave</td>\n",
       "      <td>NaN</td>\n",
       "      <td>44.968908</td>\n",
       "      <td>-93.279479</td>\n",
       "      <td>[{'label': 'display', 'lat': 44.96890779142156...</td>\n",
       "      <td>...</td>\n",
       "      <td>0</td>\n",
       "      <td>[]</td>\n",
       "      <td>NaN</td>\n",
       "      <td>465641085</td>\n",
       "      <td>NaN</td>\n",
       "      <td>NaN</td>\n",
       "      <td>NaN</td>\n",
       "      <td>NaN</td>\n",
       "      <td>NaN</td>\n",
       "      <td>NaN</td>\n",
       "    </tr>\n",
       "    <tr>\n",
       "      <th>4</th>\n",
       "      <td>e-0-5aa9baebff03062a4b1dccba-4</td>\n",
       "      <td>0</td>\n",
       "      <td>[{'summary': 'This spot is popular', 'type': '...</td>\n",
       "      <td>5aa9baebff03062a4b1dccba</td>\n",
       "      <td>Finnegans House</td>\n",
       "      <td>817 5th Ave S</td>\n",
       "      <td>btwn S 8th &amp; 9th St</td>\n",
       "      <td>44.972301</td>\n",
       "      <td>-93.266410</td>\n",
       "      <td>[{'label': 'display', 'lat': 44.97230088563604...</td>\n",
       "      <td>...</td>\n",
       "      <td>0</td>\n",
       "      <td>[]</td>\n",
       "      <td>NaN</td>\n",
       "      <td>NaN</td>\n",
       "      <td>NaN</td>\n",
       "      <td>NaN</td>\n",
       "      <td>NaN</td>\n",
       "      <td>NaN</td>\n",
       "      <td>NaN</td>\n",
       "      <td>NaN</td>\n",
       "    </tr>\n",
       "  </tbody>\n",
       "</table>\n",
       "<p>5 rows × 28 columns</p>\n",
       "</div>"
      ],
      "text/plain": [
       "                       referralId  reasons.count  \\\n",
       "0  e-0-4c8d128bc37a6dcb86d0fc7a-0              0   \n",
       "1  e-0-5047b636e4b04db60102f96d-1              0   \n",
       "2  e-0-52190bad11d28f3e1ce73946-2              0   \n",
       "3  e-0-56242508498e6aeb80142c2c-3              0   \n",
       "4  e-0-5aa9baebff03062a4b1dccba-4              0   \n",
       "\n",
       "                                       reasons.items  \\\n",
       "0  [{'summary': 'This spot is popular', 'type': '...   \n",
       "1  [{'summary': 'This spot is popular', 'type': '...   \n",
       "2  [{'summary': 'This spot is popular', 'type': '...   \n",
       "3  [{'summary': 'This spot is popular', 'type': '...   \n",
       "4  [{'summary': 'This spot is popular', 'type': '...   \n",
       "\n",
       "                   venue.id                       venue.name  \\\n",
       "0  4c8d128bc37a6dcb86d0fc7a           Fulton Brewing Company   \n",
       "1  5047b636e4b04db60102f96d         Dangerous Man Brewing Co   \n",
       "2  52190bad11d28f3e1ce73946            Surly Brewing Company   \n",
       "3  56242508498e6aeb80142c2c  Lakes & Legends Brewing Company   \n",
       "4  5aa9baebff03062a4b1dccba                  Finnegans House   \n",
       "\n",
       "  venue.location.address venue.location.crossStreet  venue.location.lat  \\\n",
       "0          414 6th Ave N               at 5th St. N           44.984862   \n",
       "1         1300 2nd St NE                        NaN           45.001049   \n",
       "2     520 Malcolm Ave SE                  SE 5th St           44.973226   \n",
       "3       1368 Lasalle Ave                        NaN           44.968908   \n",
       "4          817 5th Ave S        btwn S 8th & 9th St           44.972301   \n",
       "\n",
       "   venue.location.lng                      venue.location.labeledLatLngs  ...  \\\n",
       "0          -93.278828  [{'label': 'display', 'lat': 44.98486196804921...  ...   \n",
       "1          -93.266337  [{'label': 'display', 'lat': 45.00104863763394...  ...   \n",
       "2          -93.210072  [{'label': 'display', 'lat': 44.97322598772595...  ...   \n",
       "3          -93.279479  [{'label': 'display', 'lat': 44.96890779142156...  ...   \n",
       "4          -93.266410  [{'label': 'display', 'lat': 44.97230088563604...  ...   \n",
       "\n",
       "   venue.photos.count venue.photos.groups     venue.location.neighborhood  \\\n",
       "0                   0                  []                             NaN   \n",
       "1                   0                  []                             NaN   \n",
       "2                   0                  []  Prospect Park, Minneapolis, MN   \n",
       "3                   0                  []                             NaN   \n",
       "4                   0                  []                             NaN   \n",
       "\n",
       "  venue.venuePage.id venue.delivery.id venue.delivery.url  \\\n",
       "0                NaN               NaN                NaN   \n",
       "1                NaN               NaN                NaN   \n",
       "2                NaN               NaN                NaN   \n",
       "3          465641085               NaN                NaN   \n",
       "4                NaN               NaN                NaN   \n",
       "\n",
       "  venue.delivery.provider.name venue.delivery.provider.icon.prefix  \\\n",
       "0                          NaN                                 NaN   \n",
       "1                          NaN                                 NaN   \n",
       "2                          NaN                                 NaN   \n",
       "3                          NaN                                 NaN   \n",
       "4                          NaN                                 NaN   \n",
       "\n",
       "   venue.delivery.provider.icon.sizes venue.delivery.provider.icon.name  \n",
       "0                                 NaN                               NaN  \n",
       "1                                 NaN                               NaN  \n",
       "2                                 NaN                               NaN  \n",
       "3                                 NaN                               NaN  \n",
       "4                                 NaN                               NaN  \n",
       "\n",
       "[5 rows x 28 columns]"
      ]
     },
     "execution_count": 230,
     "metadata": {},
     "output_type": "execute_result"
    }
   ],
   "source": [
    "# Define FourSquare credentials\n",
    "CLIENT_ID = 'JSN5MX1DKF5XI3CXVZADJMU5LZE5FMLT2COF00LRJDFMFWIK' # your Foursquare ID\n",
    "CLIENT_SECRET = 'ZST1WYPJCG2J2LGQGUER23BPAC1OMF1BKYC4WQKSSRD3WC1T' # your Foursquare Secret\n",
    "VERSION = '20200101' # Foursquare API version\n",
    "\n",
    "# Find Minneapolis latitude and longitude\n",
    "address = 'Minneapolis, MN'\n",
    "geolocator = Nominatim(user_agent=\"mpls_explorer\")\n",
    "location = geolocator.geocode(address)\n",
    "mpls_latitude = location.latitude # neighborhood latitude value\n",
    "mpls_longitude = location.longitude # neighborhood longitude value\n",
    "\n",
    "category = '50327c8591d4c4b30a586d5d' #Foursquare category for brewery\n",
    "\n",
    "radius = 25000\n",
    "url = 'https://api.foursquare.com/v2/venues/\\\n",
    "explore?client_id={}&client_secret={}&v={}\\\n",
    "&ll={},{}&categoryId={}&radius={}&limit={}'\\\n",
    ".format(CLIENT_ID,\n",
    "        CLIENT_SECRET,\n",
    "        VERSION,\n",
    "        mpls_latitude,\n",
    "        mpls_longitude,\n",
    "        category,\n",
    "        radius,\n",
    "        LIMIT)\n",
    "url\n",
    "\n",
    "results = requests.get(url).json()\n",
    "# The [0] below threw me off. This article helped.\n",
    "# https://medium.com/@aboutiana/a-brief-guide-to-using-foursquare-api-with-a-hands-on-example-on-python-6fc4d5451203\n",
    "venues = results['response']['groups'][0]['items']\n",
    "# tranform venues into a dataframe\n",
    "#venues\n",
    "df_brewery = pd.json_normalize(venues)\n",
    "df_brewery.head()"
   ]
  },
  {
   "cell_type": "code",
   "execution_count": 231,
   "metadata": {},
   "outputs": [
    {
     "data": {
      "text/plain": [
       "(100, 28)"
      ]
     },
     "execution_count": 231,
     "metadata": {},
     "output_type": "execute_result"
    }
   ],
   "source": [
    "df_brewery.shape"
   ]
  },
  {
   "cell_type": "code",
   "execution_count": 234,
   "metadata": {},
   "outputs": [
    {
     "data": {
      "text/plain": [
       "0                          Fulton Brewing Company\n",
       "1                        Dangerous Man Brewing Co\n",
       "2                           Surly Brewing Company\n",
       "3                 Lakes & Legends Brewing Company\n",
       "4                                 Finnegans House\n",
       "5                                  Inbound BrewCo\n",
       "6                                Sisyphus Brewing\n",
       "7                          Indeed Brewing Company\n",
       "8                   Minneapolis Town Hall Brewery\n",
       "9                       Day Block Brewing Company\n",
       "10                            Utepils Brewing Co.\n",
       "11                  Urban Growler Brewing Company\n",
       "12                              Modist Brewing Co\n",
       "13                          Pryes Brewing Company\n",
       "14                                   Venn Brewing\n",
       "15                 Fair State Brewing Cooperative\n",
       "16                              Bauhaus Brew Labs\n",
       "17                                Insight Brewing\n",
       "18                              Headflyer Brewing\n",
       "19                           Sociable Cider Werks\n",
       "20                                  The Freehouse\n",
       "21                           Bang Brewing Company\n",
       "22                                LynLake Brewery\n",
       "23                         Eastlake Craft Brewery\n",
       "24              Northbound Smokehouse and Brewpub\n",
       "25               Broken Clock Brewing Cooperative\n",
       "26                       Able Seedhouse + Brewery\n",
       "27                         Summit Brewing Company\n",
       "28                                Number 12 Cider\n",
       "29                                        612Brew\n",
       "30                                     56 Brewing\n",
       "31                                    Wicked Wort\n",
       "32                              Steel Toe Brewing\n",
       "33                               Surly Brewing Co\n",
       "34                         Wild Mind Artisan Ales\n",
       "35                           Lake Monster Brewing\n",
       "36                              Bent Brewstillery\n",
       "37                                Northern Brewer\n",
       "38                             BlackStack Brewing\n",
       "39                    Bad Weather Brewing Company\n",
       "40                     Barrel Theory Beer Company\n",
       "41                                Town Hall Lanes\n",
       "42                       Tin Whiskers Brewing Co.\n",
       "43                                    LTD Brewing\n",
       "44                          Barley John's Brewpub\n",
       "45    The Lab - Brewery, Pilot Facility & Taproom\n",
       "46                        Wabasha Brewing Company\n",
       "47                               Bald Man Brewing\n",
       "48                 Bus Stop Burgers and Brewhouse\n",
       "49                    Waldmann Brewery & Wurstery\n",
       "Name: venue.name, dtype: object"
      ]
     },
     "execution_count": 234,
     "metadata": {},
     "output_type": "execute_result"
    }
   ],
   "source": [
    "df_brewery['venue.name'][0:50]"
   ]
  },
  {
   "cell_type": "code",
   "execution_count": 223,
   "metadata": {},
   "outputs": [
    {
     "data": {
      "text/plain": [
       "0    [{'reasons': {'count': 0, 'items': [{'summary'...\n",
       "Name: items, dtype: object"
      ]
     },
     "execution_count": 223,
     "metadata": {},
     "output_type": "execute_result"
    }
   ],
   "source": [
    "df_brewery['items']"
   ]
  },
  {
   "cell_type": "code",
   "execution_count": 199,
   "metadata": {},
   "outputs": [
    {
     "name": "stdout",
     "output_type": "stream",
     "text": [
      "0             Day Block Brewing Company\n",
      "1                    Clockwerks Brewing\n",
      "2                      Sisyphus Brewing\n",
      "3                 Surly Brewing Company\n",
      "4                Indeed Brewing Company\n",
      "5                Fulton Brewing Company\n",
      "6         Urban Growler Brewing Company\n",
      "7            August Schell's Brewing Co\n",
      "8       Lakes & Legends Brewing Company\n",
      "9                     Modist Brewing Co\n",
      "10                   BlackStack Brewing\n",
      "11                Pryes Brewing Company\n",
      "12                      Insight Brewing\n",
      "13    Lakes and Legends Brewing Company\n",
      "14                     Surly Brewing Co\n",
      "15          Gastrotruck @Fulton Brewing\n",
      "16                          LTD Brewing\n",
      "17             Brass Foundry Brewing Co\n",
      "18                    Headflyer Brewing\n",
      "19             Dangerous Man Brewing Co\n",
      "20         St. Paul Brewing Cooperative\n",
      "21                  Utepils Brewing Co.\n",
      "22                       Clutch Brewing\n",
      "23                Page James Brewing Co\n",
      "24             Lyn Lake Brewing Rooftop\n",
      "25               Summit Brewing Company\n",
      "26                    Bryn Mawr Brewing\n",
      "27              Wabasha Brewing Company\n",
      "28             Tin Whiskers Brewing Co.\n",
      "29             Peace Coffee Brewing Lab\n",
      "30                 Excelsior Brewing Co\n",
      "31                Falling Knife Brewing\n",
      "32               Summit Brewing Company\n",
      "33        Harroet Brewing Bathroom Line\n",
      "34       Fair State Brewing Cooperative\n",
      "35                       Zurbey Brewing\n",
      "36         Gastrotruck@ Harriet Brewing\n",
      "37               Forgotten Star Brewing\n",
      "38                           56 Brewing\n",
      "39    Indeed Brewing Company - Westgate\n",
      "40            Wheels Brewing Co. Studio\n",
      "41         Dual Citizen Brewing Company\n",
      "42            Five Hole Brewing Company\n",
      "43                  Tainp Water Brewing\n",
      "44          Boom Island Brewing Company\n",
      "45             Witches Brew Brewing Co.\n",
      "46                     Brewmenn Brewing\n",
      "47                   Cedar Lake Brewing\n",
      "48        White Buffalo Brewing Company\n",
      "49                    Northgate Brewing\n",
      "Name: name, dtype: object\n",
      "0                    Minneapolis Town Hall Brewery\n",
      "1                         twincities brewery tours\n",
      "2                     Banjo Kid's Downtown Brewery\n",
      "3                                  LynLake Brewery\n",
      "4                       The Herkimer Pub & Brewery\n",
      "5                   Franklin Terrace Brewery Redux\n",
      "6                              Black & Tan Brewery\n",
      "7                   Bitter Minnesota Brewery Tours\n",
      "8                    Granite City Food and Brewery\n",
      "9                    Barrio Truck @ Fulton Brewery\n",
      "10                 Big Wood Brewery Bull Ride 2013\n",
      "11                     Granite City Food & Brewery\n",
      "12       Schmidt Organic Water - Schmidt's Brewery\n",
      "13                Rock Bottom Restaurant & Brewery\n",
      "14                     Historic Grain Belt Brewery\n",
      "15                                Dropkick Brewery\n",
      "16                     Grainbelt Brewery Warehouse\n",
      "17                        Able Seedhouse + Brewery\n",
      "18                             Frowny-Face Brewery\n",
      "19                                  Fulton Brewery\n",
      "20                           Beardick Head Brewery\n",
      "21                   Granite City Food And Brewery\n",
      "22     The Lab - Brewery, Pilot Facility & Taproom\n",
      "23                                 LynLake Brewery\n",
      "24                                 Finnegans House\n",
      "25                                 Du Nord Brewery\n",
      "26                      August Schell's Brewing Co\n",
      "27                              Chemiclyst Brewery\n",
      "28             Fair State Co-op Production Brewery\n",
      "29                               Blackhoof Brewery\n",
      "30                                   31oh1 Brewery\n",
      "31                          Eastlake Craft Brewery\n",
      "32                          Fulton Brewing Company\n",
      "33                                 Woody's Brewery\n",
      "34                              Homeshaker Brewery\n",
      "35    Granite City Food & Brewery Corporate Office\n",
      "36                           Grain Belt Apartments\n",
      "37                              Tangletown Brewery\n",
      "38                              Grain Belt Studios\n",
      "39                        Bruce's Backdoor Brewery\n",
      "40                                 Kessler Brewery\n",
      "41             Quatro Valas Smokehouse and Brewery\n",
      "42                     Derkastrom's Garden Brewery\n",
      "43                             Blunderbuss Brewery\n",
      "44                             La Dona Cerveceri­a\n",
      "45                               Dead Bear Brewery\n",
      "46             Gastrotruck @ Dangerous Man Brewery\n",
      "47                           Brigs & Holls Brewery\n",
      "48                   Granite City Food and Brewery\n",
      "49                             Summit Brewery Tour\n",
      "Name: name, dtype: object\n"
     ]
    }
   ],
   "source": [
    "print(df_brewing['name'])\n",
    "print(df_brewery['name'])"
   ]
  },
  {
   "cell_type": "code",
   "execution_count": 195,
   "metadata": {},
   "outputs": [
    {
     "data": {
      "text/plain": [
       "0             Day Block Brewing Company\n",
       "1                    Clockwerks Brewing\n",
       "2                      Sisyphus Brewing\n",
       "3                 Surly Brewing Company\n",
       "4                Indeed Brewing Company\n",
       "5                Fulton Brewing Company\n",
       "6         Urban Growler Brewing Company\n",
       "7            August Schell's Brewing Co\n",
       "8       Lakes & Legends Brewing Company\n",
       "9                     Modist Brewing Co\n",
       "10                   BlackStack Brewing\n",
       "11                Pryes Brewing Company\n",
       "12                      Insight Brewing\n",
       "13    Lakes and Legends Brewing Company\n",
       "14                     Surly Brewing Co\n",
       "15          Gastrotruck @Fulton Brewing\n",
       "16                          LTD Brewing\n",
       "17             Brass Foundry Brewing Co\n",
       "18                    Headflyer Brewing\n",
       "19             Dangerous Man Brewing Co\n",
       "20         St. Paul Brewing Cooperative\n",
       "21                  Utepils Brewing Co.\n",
       "22                       Clutch Brewing\n",
       "23                Page James Brewing Co\n",
       "24             Lyn Lake Brewing Rooftop\n",
       "25               Summit Brewing Company\n",
       "26                    Bryn Mawr Brewing\n",
       "27              Wabasha Brewing Company\n",
       "28             Tin Whiskers Brewing Co.\n",
       "29             Peace Coffee Brewing Lab\n",
       "30                 Excelsior Brewing Co\n",
       "31                Falling Knife Brewing\n",
       "32               Summit Brewing Company\n",
       "33        Harroet Brewing Bathroom Line\n",
       "34       Fair State Brewing Cooperative\n",
       "35                       Zurbey Brewing\n",
       "36         Gastrotruck@ Harriet Brewing\n",
       "37               Forgotten Star Brewing\n",
       "38                           56 Brewing\n",
       "39    Indeed Brewing Company - Westgate\n",
       "40            Wheels Brewing Co. Studio\n",
       "41         Dual Citizen Brewing Company\n",
       "42            Five Hole Brewing Company\n",
       "43                  Tainp Water Brewing\n",
       "44          Boom Island Brewing Company\n",
       "45             Witches Brew Brewing Co.\n",
       "46                     Brewmenn Brewing\n",
       "47                   Cedar Lake Brewing\n",
       "48        White Buffalo Brewing Company\n",
       "49                    Northgate Brewing\n",
       "Name: name, dtype: object"
      ]
     },
     "execution_count": 195,
     "metadata": {},
     "output_type": "execute_result"
    }
   ],
   "source": [
    "df['name']"
   ]
  },
  {
   "cell_type": "markdown",
   "metadata": {},
   "source": [
    "### Clean and format brewery data"
   ]
  },
  {
   "cell_type": "markdown",
   "metadata": {},
   "source": [
    "By looking at the columns and head, we see some candidates for removal. For example, the second listing is the twincities brewery tours, which is not actually a brewery. Additionally, its `location.address` is NaN. This row is a candidate for removal. Let's see if we can further whittle this data set down."
   ]
  },
  {
   "cell_type": "code",
   "execution_count": null,
   "metadata": {},
   "outputs": [],
   "source": []
  },
  {
   "cell_type": "markdown",
   "metadata": {},
   "source": [
    "#### Investigation of `NaN` location addresses"
   ]
  },
  {
   "cell_type": "code",
   "execution_count": 184,
   "metadata": {},
   "outputs": [
    {
     "data": {
      "text/plain": [
       "0     44.973320\n",
       "1     44.978428\n",
       "2     44.973312\n",
       "3     44.949214\n",
       "4     44.948919\n",
       "5     44.922766\n",
       "6     45.010180\n",
       "7     45.012886\n",
       "8     44.985346\n",
       "9     44.984942\n",
       "10    45.090694\n",
       "11    44.970515\n",
       "12    44.929427\n",
       "13    44.884684\n",
       "14    44.948491\n",
       "15    44.999238\n",
       "16    44.999260\n",
       "17    44.999921\n",
       "18    44.960702\n",
       "19    44.972301\n",
       "20    44.836448\n",
       "21    44.997124\n",
       "22    44.960776\n",
       "23    44.984862\n",
       "24    44.962073\n",
       "25    44.948899\n",
       "26    44.946533\n",
       "27    44.970105\n",
       "28    44.949752\n",
       "29    44.967841\n",
       "30    45.014661\n",
       "31    44.979879\n",
       "32    44.943512\n",
       "33    45.031451\n",
       "34    44.973886\n",
       "35    44.918505\n",
       "36    45.000011\n",
       "37    44.913052\n",
       "38    44.979734\n",
       "39    44.999973\n",
       "40    44.903912\n",
       "41    44.927864\n",
       "42    45.031060\n",
       "43    44.898022\n",
       "44    44.938302\n",
       "45    44.903788\n",
       "46    45.003368\n",
       "47    45.058820\n",
       "48    44.898927\n",
       "49    44.865702\n",
       "Name: location.lat, dtype: float64"
      ]
     },
     "execution_count": 184,
     "metadata": {},
     "output_type": "execute_result"
    }
   ],
   "source": [
    "df['location.lat']"
   ]
  },
  {
   "cell_type": "code",
   "execution_count": 183,
   "metadata": {},
   "outputs": [
    {
     "data": {
      "text/plain": [
       "id                                                        54cd6429498e5239f97e4693\n",
       "name                                           Gastrotruck @ Dangerous Man Brewery\n",
       "categories                       [{'id': '4bf58dd8d48988d1cb941735', 'name': 'F...\n",
       "referralId                                                            v-1594759764\n",
       "hasPerk                                                                      False\n",
       "location.address                                                               NaN\n",
       "location.crossStreet                                                           NaN\n",
       "location.lat                                                               44.8989\n",
       "location.lng                                                              -93.3299\n",
       "location.labeledLatLngs          [{'label': 'display', 'lat': 44.89892678912602...\n",
       "location.distance                                                            10092\n",
       "location.postalCode                                                            NaN\n",
       "location.cc                                                                     US\n",
       "location.city                                                          Minneapolis\n",
       "location.state                                                                  MN\n",
       "location.country                                                     United States\n",
       "location.formattedAddress                         [Minneapolis, MN, United States]\n",
       "venuePage.id                                                                   NaN\n",
       "location.neighborhood                                                          NaN\n",
       "delivery.id                                                                    NaN\n",
       "delivery.url                                                                   NaN\n",
       "delivery.provider.name                                                         NaN\n",
       "delivery.provider.icon.prefix                                                  NaN\n",
       "delivery.provider.icon.sizes                                                   NaN\n",
       "delivery.provider.icon.name                                                    NaN\n",
       "Name: 48, dtype: object"
      ]
     },
     "execution_count": 183,
     "metadata": {},
     "output_type": "execute_result"
    }
   ],
   "source": [
    "df.iloc[48]"
   ]
  },
  {
   "cell_type": "markdown",
   "metadata": {},
   "source": [
    "### Generating a Choropleth Map"
   ]
  },
  {
   "cell_type": "code",
   "execution_count": 174,
   "metadata": {},
   "outputs": [],
   "source": [
    "m = folium.Map(location=[mpls_latitude, mpls_longitude], zoom_start=13)"
   ]
  },
  {
   "cell_type": "code",
   "execution_count": null,
   "metadata": {},
   "outputs": [],
   "source": [
    "folium.GeoJson(mpls_data).add_to(m)\n",
    "m"
   ]
  },
  {
   "cell_type": "code",
   "execution_count": null,
   "metadata": {},
   "outputs": [],
   "source": []
  }
 ],
 "metadata": {
  "kernelspec": {
   "display_name": "Python 3",
   "language": "python",
   "name": "python3"
  },
  "language_info": {
   "codemirror_mode": {
    "name": "ipython",
    "version": 3
   },
   "file_extension": ".py",
   "mimetype": "text/x-python",
   "name": "python",
   "nbconvert_exporter": "python",
   "pygments_lexer": "ipython3",
   "version": "3.7.6"
  }
 },
 "nbformat": 4,
 "nbformat_minor": 4
}
